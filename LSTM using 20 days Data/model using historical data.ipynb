{
 "cells": [
  {
   "cell_type": "markdown",
   "metadata": {},
   "source": [
    "Predicting the closing stock price of a Apple Inc. using the past 20 day stock price by an artificial recurrent neural network called LSTM."
   ]
  },
  {
   "cell_type": "code",
   "execution_count": 1,
   "metadata": {},
   "outputs": [
    {
     "name": "stdout",
     "output_type": "stream",
     "text": [
      "Requirement already satisfied: pandas_datareader in c:\\users\\abhi\\anaconda3\\lib\\site-packages (0.10.0)\n",
      "Requirement already satisfied: lxml in c:\\users\\abhi\\anaconda3\\lib\\site-packages (from pandas_datareader) (4.5.0)\n",
      "Requirement already satisfied: pandas>=0.23 in c:\\users\\abhi\\anaconda3\\lib\\site-packages (from pandas_datareader) (1.0.1)\n",
      "Requirement already satisfied: requests>=2.19.0 in c:\\users\\abhi\\anaconda3\\lib\\site-packages (from pandas_datareader) (2.22.0)\n",
      "Requirement already satisfied: numpy>=1.13.3 in c:\\users\\abhi\\anaconda3\\lib\\site-packages (from pandas>=0.23->pandas_datareader) (1.19.5)\n",
      "Requirement already satisfied: pytz>=2017.2 in c:\\users\\abhi\\anaconda3\\lib\\site-packages (from pandas>=0.23->pandas_datareader) (2019.3)\n",
      "Requirement already satisfied: python-dateutil>=2.6.1 in c:\\users\\abhi\\anaconda3\\lib\\site-packages (from pandas>=0.23->pandas_datareader) (2.8.1)\n",
      "Requirement already satisfied: idna<2.9,>=2.5 in c:\\users\\abhi\\anaconda3\\lib\\site-packages (from requests>=2.19.0->pandas_datareader) (2.8)\n",
      "Requirement already satisfied: certifi>=2017.4.17 in c:\\users\\abhi\\anaconda3\\lib\\site-packages (from requests>=2.19.0->pandas_datareader) (2019.11.28)\n",
      "Requirement already satisfied: chardet<3.1.0,>=3.0.2 in c:\\users\\abhi\\anaconda3\\lib\\site-packages (from requests>=2.19.0->pandas_datareader) (3.0.4)\n",
      "Requirement already satisfied: urllib3!=1.25.0,!=1.25.1,<1.26,>=1.21.1 in c:\\users\\abhi\\anaconda3\\lib\\site-packages (from requests>=2.19.0->pandas_datareader) (1.25.8)\n",
      "Requirement already satisfied: six>=1.5 in c:\\users\\abhi\\anaconda3\\lib\\site-packages (from python-dateutil>=2.6.1->pandas>=0.23->pandas_datareader) (1.15.0)\n",
      "Note: you may need to restart the kernel to use updated packages.\n"
     ]
    }
   ],
   "source": [
    "pip install pandas_datareader"
   ]
  },
  {
   "cell_type": "code",
   "execution_count": 2,
   "metadata": {},
   "outputs": [],
   "source": [
    "# Importing the libraries\n",
    "import math\n",
    "import pandas_datareader as web\n",
    "import numpy as np\n",
    "import pandas as pd\n",
    "import datetime\n",
    "from sklearn.preprocessing import MinMaxScaler\n",
    "from keras.models import Sequential\n",
    "from keras.layers import Dense, LSTM\n",
    "import matplotlib.pyplot as plt\n",
    "plt.style.use('seaborn')"
   ]
  },
  {
   "cell_type": "code",
   "execution_count": 3,
   "metadata": {},
   "outputs": [],
   "source": [
    "# Getting today's date\n",
    "today = datetime.date.today()"
   ]
  },
  {
   "cell_type": "code",
   "execution_count": 4,
   "metadata": {},
   "outputs": [
    {
     "data": {
      "text/html": [
       "<div>\n",
       "<style scoped>\n",
       "    .dataframe tbody tr th:only-of-type {\n",
       "        vertical-align: middle;\n",
       "    }\n",
       "\n",
       "    .dataframe tbody tr th {\n",
       "        vertical-align: top;\n",
       "    }\n",
       "\n",
       "    .dataframe thead th {\n",
       "        text-align: right;\n",
       "    }\n",
       "</style>\n",
       "<table border=\"1\" class=\"dataframe\">\n",
       "  <thead>\n",
       "    <tr style=\"text-align: right;\">\n",
       "      <th></th>\n",
       "      <th>High</th>\n",
       "      <th>Low</th>\n",
       "      <th>Open</th>\n",
       "      <th>Close</th>\n",
       "      <th>Volume</th>\n",
       "      <th>Adj Close</th>\n",
       "    </tr>\n",
       "    <tr>\n",
       "      <th>Date</th>\n",
       "      <th></th>\n",
       "      <th></th>\n",
       "      <th></th>\n",
       "      <th></th>\n",
       "      <th></th>\n",
       "      <th></th>\n",
       "    </tr>\n",
       "  </thead>\n",
       "  <tbody>\n",
       "    <tr>\n",
       "      <th>2012-01-03</th>\n",
       "      <td>14.732143</td>\n",
       "      <td>14.607143</td>\n",
       "      <td>14.621429</td>\n",
       "      <td>14.686786</td>\n",
       "      <td>302220800.0</td>\n",
       "      <td>12.629209</td>\n",
       "    </tr>\n",
       "    <tr>\n",
       "      <th>2012-01-04</th>\n",
       "      <td>14.810000</td>\n",
       "      <td>14.617143</td>\n",
       "      <td>14.642857</td>\n",
       "      <td>14.765714</td>\n",
       "      <td>260022000.0</td>\n",
       "      <td>12.697079</td>\n",
       "    </tr>\n",
       "    <tr>\n",
       "      <th>2012-01-05</th>\n",
       "      <td>14.948214</td>\n",
       "      <td>14.738214</td>\n",
       "      <td>14.819643</td>\n",
       "      <td>14.929643</td>\n",
       "      <td>271269600.0</td>\n",
       "      <td>12.838044</td>\n",
       "    </tr>\n",
       "    <tr>\n",
       "      <th>2012-01-06</th>\n",
       "      <td>15.098214</td>\n",
       "      <td>14.972143</td>\n",
       "      <td>14.991786</td>\n",
       "      <td>15.085714</td>\n",
       "      <td>318292800.0</td>\n",
       "      <td>12.972249</td>\n",
       "    </tr>\n",
       "    <tr>\n",
       "      <th>2012-01-09</th>\n",
       "      <td>15.276786</td>\n",
       "      <td>15.048214</td>\n",
       "      <td>15.196429</td>\n",
       "      <td>15.061786</td>\n",
       "      <td>394024400.0</td>\n",
       "      <td>12.951672</td>\n",
       "    </tr>\n",
       "    <tr>\n",
       "      <th>...</th>\n",
       "      <td>...</td>\n",
       "      <td>...</td>\n",
       "      <td>...</td>\n",
       "      <td>...</td>\n",
       "      <td>...</td>\n",
       "      <td>...</td>\n",
       "    </tr>\n",
       "    <tr>\n",
       "      <th>2021-07-08</th>\n",
       "      <td>144.059998</td>\n",
       "      <td>140.669998</td>\n",
       "      <td>141.580002</td>\n",
       "      <td>143.240005</td>\n",
       "      <td>105575500.0</td>\n",
       "      <td>143.240005</td>\n",
       "    </tr>\n",
       "    <tr>\n",
       "      <th>2021-07-09</th>\n",
       "      <td>145.649994</td>\n",
       "      <td>142.649994</td>\n",
       "      <td>142.750000</td>\n",
       "      <td>145.110001</td>\n",
       "      <td>99788400.0</td>\n",
       "      <td>145.110001</td>\n",
       "    </tr>\n",
       "    <tr>\n",
       "      <th>2021-07-12</th>\n",
       "      <td>146.320007</td>\n",
       "      <td>144.000000</td>\n",
       "      <td>146.210007</td>\n",
       "      <td>144.500000</td>\n",
       "      <td>76299700.0</td>\n",
       "      <td>144.500000</td>\n",
       "    </tr>\n",
       "    <tr>\n",
       "      <th>2021-07-13</th>\n",
       "      <td>147.460007</td>\n",
       "      <td>143.630005</td>\n",
       "      <td>144.029999</td>\n",
       "      <td>145.639999</td>\n",
       "      <td>100698900.0</td>\n",
       "      <td>145.639999</td>\n",
       "    </tr>\n",
       "    <tr>\n",
       "      <th>2021-07-14</th>\n",
       "      <td>148.960007</td>\n",
       "      <td>147.679993</td>\n",
       "      <td>148.100006</td>\n",
       "      <td>148.389999</td>\n",
       "      <td>19598911.0</td>\n",
       "      <td>148.389999</td>\n",
       "    </tr>\n",
       "  </tbody>\n",
       "</table>\n",
       "<p>2398 rows × 6 columns</p>\n",
       "</div>"
      ],
      "text/plain": [
       "                  High         Low        Open       Close       Volume  \\\n",
       "Date                                                                      \n",
       "2012-01-03   14.732143   14.607143   14.621429   14.686786  302220800.0   \n",
       "2012-01-04   14.810000   14.617143   14.642857   14.765714  260022000.0   \n",
       "2012-01-05   14.948214   14.738214   14.819643   14.929643  271269600.0   \n",
       "2012-01-06   15.098214   14.972143   14.991786   15.085714  318292800.0   \n",
       "2012-01-09   15.276786   15.048214   15.196429   15.061786  394024400.0   \n",
       "...                ...         ...         ...         ...          ...   \n",
       "2021-07-08  144.059998  140.669998  141.580002  143.240005  105575500.0   \n",
       "2021-07-09  145.649994  142.649994  142.750000  145.110001   99788400.0   \n",
       "2021-07-12  146.320007  144.000000  146.210007  144.500000   76299700.0   \n",
       "2021-07-13  147.460007  143.630005  144.029999  145.639999  100698900.0   \n",
       "2021-07-14  148.960007  147.679993  148.100006  148.389999   19598911.0   \n",
       "\n",
       "             Adj Close  \n",
       "Date                    \n",
       "2012-01-03   12.629209  \n",
       "2012-01-04   12.697079  \n",
       "2012-01-05   12.838044  \n",
       "2012-01-06   12.972249  \n",
       "2012-01-09   12.951672  \n",
       "...                ...  \n",
       "2021-07-08  143.240005  \n",
       "2021-07-09  145.110001  \n",
       "2021-07-12  144.500000  \n",
       "2021-07-13  145.639999  \n",
       "2021-07-14  148.389999  \n",
       "\n",
       "[2398 rows x 6 columns]"
      ]
     },
     "execution_count": 4,
     "metadata": {},
     "output_type": "execute_result"
    }
   ],
   "source": [
    "# Get the stock Historical Data\n",
    "historical_data = web.DataReader('AAPL', data_source='yahoo', start='2012-01-01', end=today)\n",
    "historical_data"
   ]
  },
  {
   "cell_type": "code",
   "execution_count": 5,
   "metadata": {
    "colab": {
     "base_uri": "https://localhost:8080/"
    },
    "id": "OVkALWcHWRCM",
    "outputId": "98fdb896-2298-44eb-85dd-a2c91f0d12a5"
   },
   "outputs": [
    {
     "data": {
      "text/plain": [
       "Index(['High', 'Low', 'Open', 'Close', 'Volume', 'Adj Close'], dtype='object')"
      ]
     },
     "execution_count": 5,
     "metadata": {},
     "output_type": "execute_result"
    }
   ],
   "source": [
    "historical_data.columns"
   ]
  },
  {
   "cell_type": "code",
   "execution_count": 6,
   "metadata": {},
   "outputs": [
    {
     "data": {
      "text/plain": [
       "(2398, 6)"
      ]
     },
     "execution_count": 6,
     "metadata": {},
     "output_type": "execute_result"
    }
   ],
   "source": [
    "# Get the number of rows and columns in the data set\n",
    "historical_data.shape"
   ]
  },
  {
   "cell_type": "code",
   "execution_count": 7,
   "metadata": {},
   "outputs": [
    {
     "data": {
      "image/png": "[encoded data removed]",
      "text/plain": [
       "<Figure size 1152x648 with 1 Axes>"
      ]
     },
     "metadata": {},
     "output_type": "display_data"
    }
   ],
   "source": [
    "# Visualizing the closing price history\n",
    "plt.figure(figsize=(16,9))\n",
    "plt.title('Close Price History', fontsize = 20)\n",
    "plt.plot(historical_data['Close'])\n",
    "plt.xlabel('Date', fontsize = 16, color = 'g')\n",
    "plt.ylabel('Close Price USD ($)', fontsize = 16, color = 'g')\n",
    "plt.xticks(fontsize = 12)\n",
    "plt.yticks(fontsize = 12)\n",
    "plt.show()"
   ]
  },
  {
   "cell_type": "code",
   "execution_count": 8,
   "metadata": {},
   "outputs": [],
   "source": [
    "# Create a new dataframe with only the 'Close' column\n",
    "data = historical_data.filter(['Close'])"
   ]
  },
  {
   "cell_type": "code",
   "execution_count": 9,
   "metadata": {},
   "outputs": [],
   "source": [
    "# Convert the dataframe to a numpy array\n",
    "dataset = data.values"
   ]
  },
  {
   "cell_type": "code",
   "execution_count": 10,
   "metadata": {},
   "outputs": [
    {
     "data": {
      "text/plain": [
       "1919"
      ]
     },
     "execution_count": 10,
     "metadata": {},
     "output_type": "execute_result"
    }
   ],
   "source": [
    "# Get the number of rows to train the model on\n",
    "training_data_len = math.ceil( len(dataset)*.8)\n",
    "training_data_len"
   ]
  },
  {
   "cell_type": "code",
   "execution_count": 11,
   "metadata": {},
   "outputs": [
    {
     "data": {
      "text/plain": [
       "array([[0.0054989 ],\n",
       "       [0.00608597],\n",
       "       [0.0073053 ],\n",
       "       ...,\n",
       "       [0.9710657 ],\n",
       "       [0.97954516],\n",
       "       [1.        ]])"
      ]
     },
     "execution_count": 11,
     "metadata": {},
     "output_type": "execute_result"
    }
   ],
   "source": [
    "# Scaling the data\n",
    "scaler = MinMaxScaler(feature_range=(0,1))\n",
    "scaled_data = scaler.fit_transform(dataset)\n",
    "scaled_data"
   ]
  },
  {
   "cell_type": "code",
   "execution_count": 12,
   "metadata": {},
   "outputs": [
    {
     "name": "stdout",
     "output_type": "stream",
     "text": [
      "[array([0.0054989 , 0.00608597, 0.0073053 , 0.00846618, 0.00828819,\n",
      "       0.00868932, 0.00850602, 0.00819787, 0.00777815, 0.00907717,\n",
      "       0.01024867, 0.00988739, 0.00790831, 0.00979707, 0.00793754,\n",
      "       0.01491078, 0.01437152, 0.01507548, 0.01659764, 0.01751943])]\n",
      "[0.01744239602798768]\n",
      "\n"
     ]
    }
   ],
   "source": [
    "# Create the training data set\n",
    "train_data = scaled_data[0:training_data_len , :]\n",
    "\n",
    "# Split the data into x_train and y_train data sets\n",
    "x_train = []\n",
    "y_train = []\n",
    "past_days = 20\n",
    "for i in range(past_days, len(train_data)):\n",
    "    x_train.append(train_data[i-past_days:i, 0])\n",
    "    y_train.append(train_data[i, 0])\n",
    "    if i<= past_days:\n",
    "        print(x_train)\n",
    "        print(y_train)\n",
    "        print()"
   ]
  },
  {
   "cell_type": "code",
   "execution_count": 13,
   "metadata": {},
   "outputs": [],
   "source": [
    "# Convert the x_train and y_train to numpy arrays\n",
    "x_train, y_train = np.array(x_train), np.array(y_train)"
   ]
  },
  {
   "cell_type": "code",
   "execution_count": 14,
   "metadata": {},
   "outputs": [
    {
     "data": {
      "text/plain": [
       "(1899, 20, 1)"
      ]
     },
     "execution_count": 14,
     "metadata": {},
     "output_type": "execute_result"
    }
   ],
   "source": [
    "# Reshape the data\n",
    "x_train = np.reshape(x_train, (x_train.shape[0], x_train.shape[1], 1))\n",
    "x_train.shape"
   ]
  },
  {
   "cell_type": "code",
   "execution_count": 15,
   "metadata": {},
   "outputs": [],
   "source": [
    "# Build the LSTM model\n",
    "model = Sequential()\n",
    "model.add(LSTM(50, return_sequences=True, input_shape= (x_train.shape[1], 1)))\n",
    "model.add(LSTM(50, return_sequences= False))\n",
    "model.add(Dense(25))\n",
    "model.add(Dense(1))"
   ]
  },
  {
   "cell_type": "code",
   "execution_count": 16,
   "metadata": {},
   "outputs": [],
   "source": [
    "# Compile the model\n",
    "model.compile(optimizer='adam', loss='mean_squared_error')"
   ]
  },
  {
   "cell_type": "code",
   "execution_count": 17,
   "metadata": {},
   "outputs": [
    {
     "name": "stdout",
     "output_type": "stream",
     "text": [
      "Epoch 1/100\n",
      "119/119 [==============================] - 32s 20ms/step - loss: 0.0012\n",
      "Epoch 2/100\n",
      "119/119 [==============================] - 2s 19ms/step - loss: 8.8345e-05\n",
      "Epoch 3/100\n",
      "119/119 [==============================] - 2s 19ms/step - loss: 7.7292e-05\n",
      "Epoch 4/100\n",
      "119/119 [==============================] - 2s 19ms/step - loss: 6.6432e-05\n",
      "Epoch 5/100\n",
      "119/119 [==============================] - 2s 19ms/step - loss: 7.0528e-05\n",
      "Epoch 6/100\n",
      "119/119 [==============================] - 2s 19ms/step - loss: 6.6450e-05\n",
      "Epoch 7/100\n",
      "119/119 [==============================] - 2s 19ms/step - loss: 5.8791e-05\n",
      "Epoch 8/100\n",
      "119/119 [==============================] - 2s 19ms/step - loss: 5.3325e-05\n",
      "Epoch 9/100\n",
      "119/119 [==============================] - 3s 24ms/step - loss: 4.5662e-05\n",
      "Epoch 10/100\n",
      "119/119 [==============================] - 3s 26ms/step - loss: 4.9053e-05\n",
      "Epoch 11/100\n",
      "119/119 [==============================] - 3s 25ms/step - loss: 4.2303e-05\n",
      "Epoch 12/100\n",
      "119/119 [==============================] - 3s 26ms/step - loss: 4.2070e-05\n",
      "Epoch 13/100\n",
      "119/119 [==============================] - 3s 29ms/step - loss: 3.4713e-05\n",
      "Epoch 14/100\n",
      "119/119 [==============================] - 3s 29ms/step - loss: 3.2168e-05\n",
      "Epoch 15/100\n",
      "119/119 [==============================] - 3s 25ms/step - loss: 5.1918e-05\n",
      "Epoch 16/100\n",
      "119/119 [==============================] - 3s 25ms/step - loss: 3.3703e-05\n",
      "Epoch 17/100\n",
      "119/119 [==============================] - 3s 25ms/step - loss: 5.0500e-05\n",
      "Epoch 18/100\n",
      "119/119 [==============================] - 3s 26ms/step - loss: 3.0478e-05\n",
      "Epoch 19/100\n",
      "119/119 [==============================] - 3s 25ms/step - loss: 3.2556e-05\n",
      "Epoch 20/100\n",
      "119/119 [==============================] - 3s 25ms/step - loss: 2.9022e-05\n",
      "Epoch 21/100\n",
      "119/119 [==============================] - 3s 27ms/step - loss: 2.9880e-05\n",
      "Epoch 22/100\n",
      "119/119 [==============================] - 3s 29ms/step - loss: 3.4084e-05\n",
      "Epoch 23/100\n",
      "119/119 [==============================] - 3s 29ms/step - loss: 3.5528e-05\n",
      "Epoch 24/100\n",
      "119/119 [==============================] - 4s 32ms/step - loss: 3.3434e-05\n",
      "Epoch 25/100\n",
      "119/119 [==============================] - 3s 28ms/step - loss: 2.8101e-05\n",
      "Epoch 26/100\n",
      "119/119 [==============================] - 4s 32ms/step - loss: 2.4786e-05\n",
      "Epoch 27/100\n",
      "119/119 [==============================] - 3s 25ms/step - loss: 2.5055e-05\n",
      "Epoch 28/100\n",
      "119/119 [==============================] - 3s 26ms/step - loss: 2.4513e-05\n",
      "Epoch 29/100\n",
      "119/119 [==============================] - 3s 29ms/step - loss: 2.5480e-05\n",
      "Epoch 30/100\n",
      "119/119 [==============================] - 3s 24ms/step - loss: 2.5717e-05\n",
      "Epoch 31/100\n",
      "119/119 [==============================] - 3s 25ms/step - loss: 2.2738e-05\n",
      "Epoch 32/100\n",
      "119/119 [==============================] - 3s 24ms/step - loss: 2.4973e-05\n",
      "Epoch 33/100\n",
      "119/119 [==============================] - 3s 24ms/step - loss: 2.7267e-05\n",
      "Epoch 34/100\n",
      "119/119 [==============================] - 3s 24ms/step - loss: 2.4999e-05\n",
      "Epoch 35/100\n",
      "119/119 [==============================] - 3s 24ms/step - loss: 2.6780e-05\n",
      "Epoch 36/100\n",
      "119/119 [==============================] - 3s 25ms/step - loss: 1.8458e-05: 1\n",
      "Epoch 37/100\n",
      "119/119 [==============================] - 3s 24ms/step - loss: 1.7099e-05\n",
      "Epoch 38/100\n",
      "119/119 [==============================] - 3s 24ms/step - loss: 2.2720e-05\n",
      "Epoch 39/100\n",
      "119/119 [==============================] - 3s 24ms/step - loss: 2.0468e-05\n",
      "Epoch 40/100\n",
      "119/119 [==============================] - 3s 25ms/step - loss: 3.0405e-05: 1s -\n",
      "Epoch 41/100\n",
      "119/119 [==============================] - 3s 26ms/step - loss: 2.3591e-05: 0s -\n",
      "Epoch 42/100\n",
      "119/119 [==============================] - 3s 25ms/step - loss: 2.7487e-05\n",
      "Epoch 43/100\n",
      "119/119 [==============================] - 3s 25ms/step - loss: 1.8931e-05\n",
      "Epoch 44/100\n",
      "119/119 [==============================] - 3s 24ms/step - loss: 2.4648e-05\n",
      "Epoch 45/100\n",
      "119/119 [==============================] - 3s 24ms/step - loss: 2.9833e-05\n",
      "Epoch 46/100\n",
      "119/119 [==============================] - 3s 25ms/step - loss: 1.8022e-05\n",
      "Epoch 47/100\n",
      "119/119 [==============================] - 3s 25ms/step - loss: 1.7767e-05\n",
      "Epoch 48/100\n",
      "119/119 [==============================] - 3s 26ms/step - loss: 2.3281e-05\n",
      "Epoch 49/100\n",
      "119/119 [==============================] - 3s 29ms/step - loss: 2.6335e-05\n",
      "Epoch 50/100\n",
      "119/119 [==============================] - 4s 30ms/step - loss: 2.1880e-05\n",
      "Epoch 51/100\n",
      "119/119 [==============================] - 3s 29ms/step - loss: 2.0441e-05: 0s - loss: 2.0455e-0\n",
      "Epoch 52/100\n",
      "119/119 [==============================] - 3s 28ms/step - loss: 2.1092e-05\n",
      "Epoch 53/100\n",
      "119/119 [==============================] - 3s 26ms/step - loss: 2.3254e-05\n",
      "Epoch 54/100\n",
      "119/119 [==============================] - 3s 26ms/step - loss: 1.9944e-05\n",
      "Epoch 55/100\n",
      "119/119 [==============================] - 3s 25ms/step - loss: 2.4626e-05\n",
      "Epoch 56/100\n",
      "119/119 [==============================] - 3s 25ms/step - loss: 1.8217e-05\n",
      "Epoch 57/100\n",
      "119/119 [==============================] - 3s 26ms/step - loss: 2.1324e-05\n",
      "Epoch 58/100\n",
      "119/119 [==============================] - 3s 27ms/step - loss: 2.5472e-05\n",
      "Epoch 59/100\n",
      "119/119 [==============================] - 3s 25ms/step - loss: 1.9058e-05\n",
      "Epoch 60/100\n",
      "119/119 [==============================] - 3s 24ms/step - loss: 2.3602e-05\n",
      "Epoch 61/100\n",
      "119/119 [==============================] - 3s 27ms/step - loss: 1.8714e-05\n",
      "Epoch 62/100\n",
      "119/119 [==============================] - 3s 25ms/step - loss: 2.6030e-05\n",
      "Epoch 63/100\n",
      "119/119 [==============================] - 3s 25ms/step - loss: 2.4115e-05\n",
      "Epoch 64/100\n",
      "119/119 [==============================] - 3s 27ms/step - loss: 1.9845e-05\n",
      "Epoch 65/100\n",
      "119/119 [==============================] - 3s 27ms/step - loss: 2.1406e-05\n",
      "Epoch 66/100\n",
      "119/119 [==============================] - 3s 25ms/step - loss: 1.7830e-05\n",
      "Epoch 67/100\n",
      "119/119 [==============================] - 3s 26ms/step - loss: 2.2469e-05\n",
      "Epoch 68/100\n",
      "119/119 [==============================] - 3s 27ms/step - loss: 1.7867e-05\n",
      "Epoch 69/100\n",
      "119/119 [==============================] - 3s 28ms/step - loss: 2.3186e-05\n",
      "Epoch 70/100\n",
      "119/119 [==============================] - 3s 27ms/step - loss: 1.8376e-05\n",
      "Epoch 71/100\n",
      "119/119 [==============================] - 3s 26ms/step - loss: 1.9800e-05\n",
      "Epoch 72/100\n",
      "119/119 [==============================] - 3s 26ms/step - loss: 2.3053e-05\n",
      "Epoch 73/100\n",
      "119/119 [==============================] - 3s 27ms/step - loss: 1.8176e-05\n",
      "Epoch 74/100\n",
      "119/119 [==============================] - 3s 25ms/step - loss: 2.0116e-05\n",
      "Epoch 75/100\n",
      "119/119 [==============================] - 3s 24ms/step - loss: 2.4704e-05\n",
      "Epoch 76/100\n",
      "119/119 [==============================] - 3s 26ms/step - loss: 2.4105e-05\n",
      "Epoch 77/100\n",
      "119/119 [==============================] - 3s 26ms/step - loss: 2.1309e-05\n",
      "Epoch 78/100\n",
      "119/119 [==============================] - 3s 27ms/step - loss: 1.7605e-05\n",
      "Epoch 79/100\n",
      "119/119 [==============================] - 3s 25ms/step - loss: 1.8155e-05\n",
      "Epoch 80/100\n",
      "119/119 [==============================] - 3s 25ms/step - loss: 1.9660e-05\n",
      "Epoch 81/100\n",
      "119/119 [==============================] - 3s 25ms/step - loss: 2.6060e-05\n",
      "Epoch 82/100\n",
      "119/119 [==============================] - 3s 24ms/step - loss: 1.9505e-05\n",
      "Epoch 83/100\n",
      "119/119 [==============================] - 3s 24ms/step - loss: 2.2535e-05\n",
      "Epoch 84/100\n",
      "119/119 [==============================] - 3s 24ms/step - loss: 1.9198e-05\n",
      "Epoch 85/100\n",
      "119/119 [==============================] - 3s 26ms/step - loss: 1.9332e-05\n",
      "Epoch 86/100\n",
      "119/119 [==============================] - 3s 26ms/step - loss: 1.8892e-05\n",
      "Epoch 87/100\n",
      "119/119 [==============================] - 3s 25ms/step - loss: 1.8309e-05\n",
      "Epoch 88/100\n",
      "119/119 [==============================] - 3s 26ms/step - loss: 2.3207e-05\n",
      "Epoch 89/100\n",
      "119/119 [==============================] - 3s 26ms/step - loss: 2.1601e-05\n",
      "Epoch 90/100\n",
      "119/119 [==============================] - 3s 25ms/step - loss: 2.1822e-05\n",
      "Epoch 91/100\n",
      "119/119 [==============================] - 3s 25ms/step - loss: 1.7702e-05\n",
      "Epoch 92/100\n",
      "119/119 [==============================] - 3s 25ms/step - loss: 2.0915e-05\n",
      "Epoch 93/100\n"
     ]
    },
    {
     "name": "stdout",
     "output_type": "stream",
     "text": [
      "119/119 [==============================] - 3s 26ms/step - loss: 2.1370e-05\n",
      "Epoch 94/100\n",
      "119/119 [==============================] - 3s 25ms/step - loss: 1.6719e-05\n",
      "Epoch 95/100\n",
      "119/119 [==============================] - 3s 27ms/step - loss: 1.7143e-05\n",
      "Epoch 96/100\n",
      "119/119 [==============================] - 3s 28ms/step - loss: 1.8697e-05: \n",
      "Epoch 97/100\n",
      "119/119 [==============================] - 3s 24ms/step - loss: 1.9404e-05\n",
      "Epoch 98/100\n",
      "119/119 [==============================] - 3s 26ms/step - loss: 1.8442e-05\n",
      "Epoch 99/100\n",
      "119/119 [==============================] - 3s 28ms/step - loss: 2.1461e-05\n",
      "Epoch 100/100\n",
      "119/119 [==============================] - 4s 31ms/step - loss: 1.9101e-05\n"
     ]
    },
    {
     "data": {
      "text/plain": [
       "<keras.callbacks.History at 0x2ddbd088408>"
      ]
     },
     "execution_count": 17,
     "metadata": {},
     "output_type": "execute_result"
    }
   ],
   "source": [
    "# Train the model\n",
    "model.fit(x_train, y_train, batch_size = 16, epochs = 100, verbose=1)"
   ]
  },
  {
   "cell_type": "code",
   "execution_count": 18,
   "metadata": {},
   "outputs": [],
   "source": [
    "# Create the testing data set\n",
    "test_data = scaled_data[training_data_len - past_days: , :]\n",
    "\n",
    "# Create the data sets x_test and y_test\n",
    "x_test = []\n",
    "y_test = dataset[training_data_len:, :]\n",
    "for i in range(past_days, len(test_data)):\n",
    "    x_test.append(test_data[i-past_days:i, 0])"
   ]
  },
  {
   "cell_type": "code",
   "execution_count": 19,
   "metadata": {},
   "outputs": [],
   "source": [
    "# Convert the data to a numpy array\n",
    "x_test = np.array(x_test)"
   ]
  },
  {
   "cell_type": "code",
   "execution_count": 20,
   "metadata": {},
   "outputs": [],
   "source": [
    "# Reshape the data\n",
    "x_test = np.reshape(x_test, (x_test. shape[0], x_test. shape[1], 1))"
   ]
  },
  {
   "cell_type": "code",
   "execution_count": 21,
   "metadata": {},
   "outputs": [],
   "source": [
    "# Get the models predicted price values\n",
    "predictions = model.predict(x_test)\n",
    "predictions = scaler.inverse_transform(predictions)"
   ]
  },
  {
   "cell_type": "code",
   "execution_count": 22,
   "metadata": {},
   "outputs": [
    {
     "data": {
      "text/plain": [
       "1.293570492611051"
      ]
     },
     "execution_count": 22,
     "metadata": {},
     "output_type": "execute_result"
    }
   ],
   "source": [
    "# Get the root mean squared error (RMSE)\n",
    "rmse = np.sqrt(np.mean(predictions - y_test)**2)\n",
    "rmse"
   ]
  },
  {
   "cell_type": "code",
   "execution_count": 23,
   "metadata": {},
   "outputs": [
    {
     "name": "stderr",
     "output_type": "stream",
     "text": [
      "C:\\Users\\Abhi\\anaconda3\\lib\\site-packages\\ipykernel_launcher.py:4: SettingWithCopyWarning: \n",
      "A value is trying to be set on a copy of a slice from a DataFrame.\n",
      "Try using .loc[row_indexer,col_indexer] = value instead\n",
      "\n",
      "See the caveats in the documentation: https://pandas.pydata.org/pandas-docs/stable/user_guide/indexing.html#returning-a-view-versus-a-copy\n",
      "  after removing the cwd from sys.path.\n"
     ]
    },
    {
     "data": {
      "image/png": "[encoded data removed]",
      "text/plain": [
       "<Figure size 1152x648 with 1 Axes>"
      ]
     },
     "metadata": {},
     "output_type": "display_data"
    }
   ],
   "source": [
    "# Plot the data\n",
    "train = data[:training_data_len]\n",
    "valid = data[training_data_len:]\n",
    "valid['Predictions'] = predictions\n",
    "\n",
    "# Visualize the data\n",
    "plt.figure(figsize=(16,9))\n",
    "plt.title('Model', fontsize = 20)\n",
    "plt.xlabel('Date', fontsize= 16, color = 'g')\n",
    "plt.ylabel( 'Close Price USD ($)', fontsize = 16, color = 'g')\n",
    "plt.plot(valid['Close'], color = 'blue', label = 'Actual Close Price')\n",
    "plt.plot(valid['Predictions'],  color = 'red', label = 'Predicted Close Price')\n",
    "plt.legend (loc = 'lower right')\n",
    "plt.xticks(fontsize = 12)\n",
    "plt.yticks(fontsize = 12)\n",
    "plt.show()"
   ]
  },
  {
   "cell_type": "code",
   "execution_count": 24,
   "metadata": {},
   "outputs": [
    {
     "data": {
      "text/html": [
       "<div>\n",
       "<style scoped>\n",
       "    .dataframe tbody tr th:only-of-type {\n",
       "        vertical-align: middle;\n",
       "    }\n",
       "\n",
       "    .dataframe tbody tr th {\n",
       "        vertical-align: top;\n",
       "    }\n",
       "\n",
       "    .dataframe thead th {\n",
       "        text-align: right;\n",
       "    }\n",
       "</style>\n",
       "<table border=\"1\" class=\"dataframe\">\n",
       "  <thead>\n",
       "    <tr style=\"text-align: right;\">\n",
       "      <th></th>\n",
       "      <th>Close</th>\n",
       "      <th>Predictions</th>\n",
       "    </tr>\n",
       "    <tr>\n",
       "      <th>Date</th>\n",
       "      <th></th>\n",
       "      <th></th>\n",
       "    </tr>\n",
       "  </thead>\n",
       "  <tbody>\n",
       "    <tr>\n",
       "      <th>2019-08-20</th>\n",
       "      <td>52.590000</td>\n",
       "      <td>53.268387</td>\n",
       "    </tr>\n",
       "    <tr>\n",
       "      <th>2019-08-21</th>\n",
       "      <td>53.160000</td>\n",
       "      <td>53.204536</td>\n",
       "    </tr>\n",
       "    <tr>\n",
       "      <th>2019-08-22</th>\n",
       "      <td>53.115002</td>\n",
       "      <td>53.881176</td>\n",
       "    </tr>\n",
       "    <tr>\n",
       "      <th>2019-08-23</th>\n",
       "      <td>50.660000</td>\n",
       "      <td>53.781502</td>\n",
       "    </tr>\n",
       "    <tr>\n",
       "      <th>2019-08-26</th>\n",
       "      <td>51.622501</td>\n",
       "      <td>51.200943</td>\n",
       "    </tr>\n",
       "    <tr>\n",
       "      <th>...</th>\n",
       "      <td>...</td>\n",
       "      <td>...</td>\n",
       "    </tr>\n",
       "    <tr>\n",
       "      <th>2021-07-08</th>\n",
       "      <td>143.240005</td>\n",
       "      <td>139.516037</td>\n",
       "    </tr>\n",
       "    <tr>\n",
       "      <th>2021-07-09</th>\n",
       "      <td>145.110001</td>\n",
       "      <td>137.401169</td>\n",
       "    </tr>\n",
       "    <tr>\n",
       "      <th>2021-07-12</th>\n",
       "      <td>144.500000</td>\n",
       "      <td>140.103683</td>\n",
       "    </tr>\n",
       "    <tr>\n",
       "      <th>2021-07-13</th>\n",
       "      <td>145.639999</td>\n",
       "      <td>138.632812</td>\n",
       "    </tr>\n",
       "    <tr>\n",
       "      <th>2021-07-14</th>\n",
       "      <td>148.389999</td>\n",
       "      <td>140.249619</td>\n",
       "    </tr>\n",
       "  </tbody>\n",
       "</table>\n",
       "<p>479 rows × 2 columns</p>\n",
       "</div>"
      ],
      "text/plain": [
       "                 Close  Predictions\n",
       "Date                               \n",
       "2019-08-20   52.590000    53.268387\n",
       "2019-08-21   53.160000    53.204536\n",
       "2019-08-22   53.115002    53.881176\n",
       "2019-08-23   50.660000    53.781502\n",
       "2019-08-26   51.622501    51.200943\n",
       "...                ...          ...\n",
       "2021-07-08  143.240005   139.516037\n",
       "2021-07-09  145.110001   137.401169\n",
       "2021-07-12  144.500000   140.103683\n",
       "2021-07-13  145.639999   138.632812\n",
       "2021-07-14  148.389999   140.249619\n",
       "\n",
       "[479 rows x 2 columns]"
      ]
     },
     "execution_count": 24,
     "metadata": {},
     "output_type": "execute_result"
    }
   ],
   "source": [
    "# Show the valid and Predicted Prices\n",
    "valid"
   ]
  },
  {
   "cell_type": "markdown",
   "metadata": {},
   "source": [
    "### Predicting Close price for next day after the Historical data ends"
   ]
  },
  {
   "cell_type": "code",
   "execution_count": 25,
   "metadata": {},
   "outputs": [
    {
     "name": "stdout",
     "output_type": "stream",
     "text": [
      "2021-07-15 00:00:00\n"
     ]
    }
   ],
   "source": [
    "# Getting next day from where the Historical Dataset ends\n",
    "last_day = historical_data.index[-1]\n",
    "next_day = last_day + datetime.timedelta(days = 1)\n",
    "print(next_day)"
   ]
  },
  {
   "cell_type": "code",
   "execution_count": 26,
   "metadata": {},
   "outputs": [
    {
     "name": "stdout",
     "output_type": "stream",
     "text": [
      "Predicted Closed Price for 2021-07-15 00:00:00  =  [[142.72667]]\n"
     ]
    }
   ],
   "source": [
    "# Create a new dataframe\n",
    "new_df = historical_data.filter(['Close'])\n",
    "# Get the last 20 day closing price values and convert the dataframe to an array\n",
    "last_20_days = new_df[-20: ].values\n",
    "# Scale the data to be values between 0 and 1\n",
    "last_20_days_scaled = scaler.transform(last_20_days)\n",
    "# Create an empty list\n",
    "X_test = []\n",
    "# Append the past 20 days\n",
    "X_test.append(last_20_days_scaled)\n",
    "# Convert the X_test data set to a numpy array\n",
    "X_test = np.array(X_test)\n",
    "# Reshape the data\n",
    "X_test = np.reshape(X_test, (X_test.shape[0], X_test.shape[1], 1))\n",
    "# Get the predicted scaled price\n",
    "pred_price = model.predict(X_test)\n",
    "# undo the scaling\n",
    "pred_price = scaler.inverse_transform(pred_price)\n",
    "print('Predicted Closed Price for {} '.format(next_day) + ' = ', pred_price)"
   ]
  }
 ],
 "metadata": {
  "kernelspec": {
   "display_name": "Python 3",
   "language": "python",
   "name": "python3"
  },
  "language_info": {
   "codemirror_mode": {
    "name": "ipython",
    "version": 3
   },
   "file_extension": ".py",
   "mimetype": "text/x-python",
   "name": "python",
   "nbconvert_exporter": "python",
   "pygments_lexer": "ipython3",
   "version": "3.7.6"
  }
 },
 "nbformat": 4,
 "nbformat_minor": 4
}
