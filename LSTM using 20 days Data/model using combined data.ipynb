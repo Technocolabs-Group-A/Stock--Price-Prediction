{
 "cells": [
  {
   "cell_type": "markdown",
   "metadata": {},
   "source": [
    "Predicting the closing stock price of a Apple Inc. using the past 20 day stock price by an artificial recurrent neural network called LSTM."
   ]
  },
  {
   "cell_type": "code",
   "execution_count": 1,
   "metadata": {},
   "outputs": [],
   "source": [
    "# Importing the libraries\n",
    "import math\n",
    "import numpy as np\n",
    "import pandas as pd\n",
    "from sklearn.preprocessing import MinMaxScaler\n",
    "from keras.models import Sequential\n",
    "from keras.layers import Dense, LSTM\n",
    "import matplotlib.pyplot as plt\n",
    "plt.style.use('seaborn')"
   ]
  },
  {
   "cell_type": "code",
   "execution_count": 2,
   "metadata": {},
   "outputs": [
    {
     "data": {
      "text/html": [
       "<div>\n",
       "<style scoped>\n",
       "    .dataframe tbody tr th:only-of-type {\n",
       "        vertical-align: middle;\n",
       "    }\n",
       "\n",
       "    .dataframe tbody tr th {\n",
       "        vertical-align: top;\n",
       "    }\n",
       "\n",
       "    .dataframe thead th {\n",
       "        text-align: right;\n",
       "    }\n",
       "</style>\n",
       "<table border=\"1\" class=\"dataframe\">\n",
       "  <thead>\n",
       "    <tr style=\"text-align: right;\">\n",
       "      <th></th>\n",
       "      <th>Date</th>\n",
       "      <th>Close/Last</th>\n",
       "      <th>Volume</th>\n",
       "      <th>Open</th>\n",
       "      <th>High</th>\n",
       "      <th>Low</th>\n",
       "    </tr>\n",
       "  </thead>\n",
       "  <tbody>\n",
       "    <tr>\n",
       "      <th>0</th>\n",
       "      <td>2021-06-09</td>\n",
       "      <td>$127.13</td>\n",
       "      <td>56877940</td>\n",
       "      <td>$127.21</td>\n",
       "      <td>$127.75</td>\n",
       "      <td>$126.52</td>\n",
       "    </tr>\n",
       "    <tr>\n",
       "      <th>1</th>\n",
       "      <td>2021-06-08</td>\n",
       "      <td>$126.74</td>\n",
       "      <td>74403770</td>\n",
       "      <td>$126.60</td>\n",
       "      <td>$128.46</td>\n",
       "      <td>$126.21</td>\n",
       "    </tr>\n",
       "    <tr>\n",
       "      <th>2</th>\n",
       "      <td>2021-06-07</td>\n",
       "      <td>$125.90</td>\n",
       "      <td>71057550</td>\n",
       "      <td>$126.17</td>\n",
       "      <td>$126.32</td>\n",
       "      <td>$124.83</td>\n",
       "    </tr>\n",
       "    <tr>\n",
       "      <th>3</th>\n",
       "      <td>2021-06-04</td>\n",
       "      <td>$125.89</td>\n",
       "      <td>75169340</td>\n",
       "      <td>$124.07</td>\n",
       "      <td>$126.16</td>\n",
       "      <td>$123.85</td>\n",
       "    </tr>\n",
       "    <tr>\n",
       "      <th>4</th>\n",
       "      <td>2021-06-03</td>\n",
       "      <td>$123.54</td>\n",
       "      <td>76229170</td>\n",
       "      <td>$124.68</td>\n",
       "      <td>$124.85</td>\n",
       "      <td>$123.13</td>\n",
       "    </tr>\n",
       "    <tr>\n",
       "      <th>...</th>\n",
       "      <td>...</td>\n",
       "      <td>...</td>\n",
       "      <td>...</td>\n",
       "      <td>...</td>\n",
       "      <td>...</td>\n",
       "      <td>...</td>\n",
       "    </tr>\n",
       "    <tr>\n",
       "      <th>2511</th>\n",
       "      <td>2011-06-16</td>\n",
       "      <td>$11.61</td>\n",
       "      <td>507299317</td>\n",
       "      <td>$11.68</td>\n",
       "      <td>$11.74</td>\n",
       "      <td>$11.37</td>\n",
       "    </tr>\n",
       "    <tr>\n",
       "      <th>2512</th>\n",
       "      <td>2011-06-15</td>\n",
       "      <td>$11.67</td>\n",
       "      <td>395841722</td>\n",
       "      <td>$11.78</td>\n",
       "      <td>$11.80</td>\n",
       "      <td>$11.60</td>\n",
       "    </tr>\n",
       "    <tr>\n",
       "      <th>2513</th>\n",
       "      <td>2011-06-14</td>\n",
       "      <td>$11.87</td>\n",
       "      <td>333995906</td>\n",
       "      <td>$11.79</td>\n",
       "      <td>$11.90</td>\n",
       "      <td>$11.76</td>\n",
       "    </tr>\n",
       "    <tr>\n",
       "      <th>2514</th>\n",
       "      <td>2011-06-13</td>\n",
       "      <td>$11.66</td>\n",
       "      <td>329376468</td>\n",
       "      <td>$11.69</td>\n",
       "      <td>$11.73</td>\n",
       "      <td>$11.61</td>\n",
       "    </tr>\n",
       "    <tr>\n",
       "      <th>2515</th>\n",
       "      <td>2011-06-10</td>\n",
       "      <td>$11.64</td>\n",
       "      <td>433801306</td>\n",
       "      <td>$11.81</td>\n",
       "      <td>$11.85</td>\n",
       "      <td>$11.63</td>\n",
       "    </tr>\n",
       "  </tbody>\n",
       "</table>\n",
       "<p>2516 rows × 6 columns</p>\n",
       "</div>"
      ],
      "text/plain": [
       "           Date Close/Last     Volume      Open      High       Low\n",
       "0    2021-06-09   $127.13    56877940  $127.21   $127.75   $126.52 \n",
       "1    2021-06-08   $126.74    74403770  $126.60   $128.46   $126.21 \n",
       "2    2021-06-07   $125.90    71057550  $126.17   $126.32   $124.83 \n",
       "3    2021-06-04   $125.89    75169340  $124.07   $126.16   $123.85 \n",
       "4    2021-06-03   $123.54    76229170  $124.68   $124.85   $123.13 \n",
       "...         ...        ...        ...       ...       ...       ...\n",
       "2511 2011-06-16    $11.61   507299317   $11.68    $11.74    $11.37 \n",
       "2512 2011-06-15    $11.67   395841722   $11.78    $11.80    $11.60 \n",
       "2513 2011-06-14    $11.87   333995906   $11.79    $11.90    $11.76 \n",
       "2514 2011-06-13    $11.66   329376468   $11.69    $11.73    $11.61 \n",
       "2515 2011-06-10    $11.64   433801306   $11.81    $11.85    $11.63 \n",
       "\n",
       "[2516 rows x 6 columns]"
      ]
     },
     "execution_count": 2,
     "metadata": {},
     "output_type": "execute_result"
    }
   ],
   "source": [
    "# Get the stock Historical Data\n",
    "historical_data = pd.read_csv('HistoricalData_APPLE.csv', parse_dates = ['Date'])\n",
    "historical_data"
   ]
  },
  {
   "cell_type": "code",
   "execution_count": 3,
   "metadata": {
    "id": "QHm9r7WGS3Ll"
   },
   "outputs": [],
   "source": [
    "historical_data.sort_values('Date', inplace=True)"
   ]
  },
  {
   "cell_type": "code",
   "execution_count": 4,
   "metadata": {
    "colab": {
     "base_uri": "https://localhost:8080/",
     "height": 424
    },
    "id": "LGDR73dSS_SV",
    "outputId": "ca46ff38-09a3-48df-f389-e6325ebea13c"
   },
   "outputs": [
    {
     "data": {
      "text/html": [
       "<div>\n",
       "<style scoped>\n",
       "    .dataframe tbody tr th:only-of-type {\n",
       "        vertical-align: middle;\n",
       "    }\n",
       "\n",
       "    .dataframe tbody tr th {\n",
       "        vertical-align: top;\n",
       "    }\n",
       "\n",
       "    .dataframe thead th {\n",
       "        text-align: right;\n",
       "    }\n",
       "</style>\n",
       "<table border=\"1\" class=\"dataframe\">\n",
       "  <thead>\n",
       "    <tr style=\"text-align: right;\">\n",
       "      <th></th>\n",
       "      <th>index</th>\n",
       "      <th>Date</th>\n",
       "      <th>Close/Last</th>\n",
       "      <th>Volume</th>\n",
       "      <th>Open</th>\n",
       "      <th>High</th>\n",
       "      <th>Low</th>\n",
       "    </tr>\n",
       "  </thead>\n",
       "  <tbody>\n",
       "    <tr>\n",
       "      <th>0</th>\n",
       "      <td>2515</td>\n",
       "      <td>2011-06-10</td>\n",
       "      <td>$11.64</td>\n",
       "      <td>433801306</td>\n",
       "      <td>$11.81</td>\n",
       "      <td>$11.85</td>\n",
       "      <td>$11.63</td>\n",
       "    </tr>\n",
       "    <tr>\n",
       "      <th>1</th>\n",
       "      <td>2514</td>\n",
       "      <td>2011-06-13</td>\n",
       "      <td>$11.66</td>\n",
       "      <td>329376468</td>\n",
       "      <td>$11.69</td>\n",
       "      <td>$11.73</td>\n",
       "      <td>$11.61</td>\n",
       "    </tr>\n",
       "    <tr>\n",
       "      <th>2</th>\n",
       "      <td>2513</td>\n",
       "      <td>2011-06-14</td>\n",
       "      <td>$11.87</td>\n",
       "      <td>333995906</td>\n",
       "      <td>$11.79</td>\n",
       "      <td>$11.90</td>\n",
       "      <td>$11.76</td>\n",
       "    </tr>\n",
       "    <tr>\n",
       "      <th>3</th>\n",
       "      <td>2512</td>\n",
       "      <td>2011-06-15</td>\n",
       "      <td>$11.67</td>\n",
       "      <td>395841722</td>\n",
       "      <td>$11.78</td>\n",
       "      <td>$11.80</td>\n",
       "      <td>$11.60</td>\n",
       "    </tr>\n",
       "    <tr>\n",
       "      <th>4</th>\n",
       "      <td>2511</td>\n",
       "      <td>2011-06-16</td>\n",
       "      <td>$11.61</td>\n",
       "      <td>507299317</td>\n",
       "      <td>$11.68</td>\n",
       "      <td>$11.74</td>\n",
       "      <td>$11.37</td>\n",
       "    </tr>\n",
       "    <tr>\n",
       "      <th>...</th>\n",
       "      <td>...</td>\n",
       "      <td>...</td>\n",
       "      <td>...</td>\n",
       "      <td>...</td>\n",
       "      <td>...</td>\n",
       "      <td>...</td>\n",
       "      <td>...</td>\n",
       "    </tr>\n",
       "    <tr>\n",
       "      <th>2511</th>\n",
       "      <td>4</td>\n",
       "      <td>2021-06-03</td>\n",
       "      <td>$123.54</td>\n",
       "      <td>76229170</td>\n",
       "      <td>$124.68</td>\n",
       "      <td>$124.85</td>\n",
       "      <td>$123.13</td>\n",
       "    </tr>\n",
       "    <tr>\n",
       "      <th>2512</th>\n",
       "      <td>3</td>\n",
       "      <td>2021-06-04</td>\n",
       "      <td>$125.89</td>\n",
       "      <td>75169340</td>\n",
       "      <td>$124.07</td>\n",
       "      <td>$126.16</td>\n",
       "      <td>$123.85</td>\n",
       "    </tr>\n",
       "    <tr>\n",
       "      <th>2513</th>\n",
       "      <td>2</td>\n",
       "      <td>2021-06-07</td>\n",
       "      <td>$125.90</td>\n",
       "      <td>71057550</td>\n",
       "      <td>$126.17</td>\n",
       "      <td>$126.32</td>\n",
       "      <td>$124.83</td>\n",
       "    </tr>\n",
       "    <tr>\n",
       "      <th>2514</th>\n",
       "      <td>1</td>\n",
       "      <td>2021-06-08</td>\n",
       "      <td>$126.74</td>\n",
       "      <td>74403770</td>\n",
       "      <td>$126.60</td>\n",
       "      <td>$128.46</td>\n",
       "      <td>$126.21</td>\n",
       "    </tr>\n",
       "    <tr>\n",
       "      <th>2515</th>\n",
       "      <td>0</td>\n",
       "      <td>2021-06-09</td>\n",
       "      <td>$127.13</td>\n",
       "      <td>56877940</td>\n",
       "      <td>$127.21</td>\n",
       "      <td>$127.75</td>\n",
       "      <td>$126.52</td>\n",
       "    </tr>\n",
       "  </tbody>\n",
       "</table>\n",
       "<p>2516 rows × 7 columns</p>\n",
       "</div>"
      ],
      "text/plain": [
       "      index       Date Close/Last     Volume      Open      High       Low\n",
       "0      2515 2011-06-10    $11.64   433801306   $11.81    $11.85    $11.63 \n",
       "1      2514 2011-06-13    $11.66   329376468   $11.69    $11.73    $11.61 \n",
       "2      2513 2011-06-14    $11.87   333995906   $11.79    $11.90    $11.76 \n",
       "3      2512 2011-06-15    $11.67   395841722   $11.78    $11.80    $11.60 \n",
       "4      2511 2011-06-16    $11.61   507299317   $11.68    $11.74    $11.37 \n",
       "...     ...        ...        ...        ...       ...       ...       ...\n",
       "2511      4 2021-06-03   $123.54    76229170  $124.68   $124.85   $123.13 \n",
       "2512      3 2021-06-04   $125.89    75169340  $124.07   $126.16   $123.85 \n",
       "2513      2 2021-06-07   $125.90    71057550  $126.17   $126.32   $124.83 \n",
       "2514      1 2021-06-08   $126.74    74403770  $126.60   $128.46   $126.21 \n",
       "2515      0 2021-06-09   $127.13    56877940  $127.21   $127.75   $126.52 \n",
       "\n",
       "[2516 rows x 7 columns]"
      ]
     },
     "execution_count": 4,
     "metadata": {},
     "output_type": "execute_result"
    }
   ],
   "source": [
    "historical_data.reset_index()"
   ]
  },
  {
   "cell_type": "code",
   "execution_count": 5,
   "metadata": {
    "colab": {
     "base_uri": "https://localhost:8080/"
    },
    "id": "OVkALWcHWRCM",
    "outputId": "98fdb896-2298-44eb-85dd-a2c91f0d12a5"
   },
   "outputs": [
    {
     "data": {
      "text/plain": [
       "Index(['Date', 'Close/Last', 'Volume', 'Open', 'High', 'Low'], dtype='object')"
      ]
     },
     "execution_count": 5,
     "metadata": {},
     "output_type": "execute_result"
    }
   ],
   "source": [
    "historical_data.columns"
   ]
  },
  {
   "cell_type": "code",
   "execution_count": 6,
   "metadata": {
    "id": "HGDqI6pJcbAX"
   },
   "outputs": [],
   "source": [
    "historical_data[\"Close/Last\"] = historical_data[\"Close/Last\"].str.replace('$', '').astype(float)\n",
    "historical_data[\"Open\"] = historical_data[\"Open\"].str.replace('$', '').astype(float)\n",
    "historical_data[\"High\"] = historical_data[\"High\"].str.replace('$', '').astype(float)\n",
    "historical_data[\"Low\"] = historical_data[\"Low\"].str.replace('$', '').astype(float)"
   ]
  },
  {
   "cell_type": "code",
   "execution_count": 7,
   "metadata": {
    "colab": {
     "base_uri": "https://localhost:8080/",
     "height": 363
    },
    "id": "9PFBa7z_dPVQ",
    "outputId": "aea2f07b-0eae-4e66-e0ff-9b22c24ee93c"
   },
   "outputs": [
    {
     "data": {
      "text/html": [
       "<div>\n",
       "<style scoped>\n",
       "    .dataframe tbody tr th:only-of-type {\n",
       "        vertical-align: middle;\n",
       "    }\n",
       "\n",
       "    .dataframe tbody tr th {\n",
       "        vertical-align: top;\n",
       "    }\n",
       "\n",
       "    .dataframe thead th {\n",
       "        text-align: right;\n",
       "    }\n",
       "</style>\n",
       "<table border=\"1\" class=\"dataframe\">\n",
       "  <thead>\n",
       "    <tr style=\"text-align: right;\">\n",
       "      <th></th>\n",
       "      <th>Date</th>\n",
       "      <th>Close/Last</th>\n",
       "      <th>Volume</th>\n",
       "      <th>Open</th>\n",
       "      <th>High</th>\n",
       "      <th>Low</th>\n",
       "    </tr>\n",
       "  </thead>\n",
       "  <tbody>\n",
       "    <tr>\n",
       "      <th>2515</th>\n",
       "      <td>2011-06-10</td>\n",
       "      <td>11.64</td>\n",
       "      <td>433801306</td>\n",
       "      <td>11.81</td>\n",
       "      <td>11.85</td>\n",
       "      <td>11.63</td>\n",
       "    </tr>\n",
       "    <tr>\n",
       "      <th>2514</th>\n",
       "      <td>2011-06-13</td>\n",
       "      <td>11.66</td>\n",
       "      <td>329376468</td>\n",
       "      <td>11.69</td>\n",
       "      <td>11.73</td>\n",
       "      <td>11.61</td>\n",
       "    </tr>\n",
       "    <tr>\n",
       "      <th>2513</th>\n",
       "      <td>2011-06-14</td>\n",
       "      <td>11.87</td>\n",
       "      <td>333995906</td>\n",
       "      <td>11.79</td>\n",
       "      <td>11.90</td>\n",
       "      <td>11.76</td>\n",
       "    </tr>\n",
       "    <tr>\n",
       "      <th>2512</th>\n",
       "      <td>2011-06-15</td>\n",
       "      <td>11.67</td>\n",
       "      <td>395841722</td>\n",
       "      <td>11.78</td>\n",
       "      <td>11.80</td>\n",
       "      <td>11.60</td>\n",
       "    </tr>\n",
       "    <tr>\n",
       "      <th>2511</th>\n",
       "      <td>2011-06-16</td>\n",
       "      <td>11.61</td>\n",
       "      <td>507299317</td>\n",
       "      <td>11.68</td>\n",
       "      <td>11.74</td>\n",
       "      <td>11.37</td>\n",
       "    </tr>\n",
       "  </tbody>\n",
       "</table>\n",
       "</div>"
      ],
      "text/plain": [
       "           Date  Close/Last     Volume   Open   High    Low\n",
       "2515 2011-06-10       11.64  433801306  11.81  11.85  11.63\n",
       "2514 2011-06-13       11.66  329376468  11.69  11.73  11.61\n",
       "2513 2011-06-14       11.87  333995906  11.79  11.90  11.76\n",
       "2512 2011-06-15       11.67  395841722  11.78  11.80  11.60\n",
       "2511 2011-06-16       11.61  507299317  11.68  11.74  11.37"
      ]
     },
     "execution_count": 7,
     "metadata": {},
     "output_type": "execute_result"
    }
   ],
   "source": [
    "historical_data.head()"
   ]
  },
  {
   "cell_type": "code",
   "execution_count": 8,
   "metadata": {
    "id": "OcORZTSddRz-"
   },
   "outputs": [
    {
     "data": {
      "text/html": [
       "<div>\n",
       "<style scoped>\n",
       "    .dataframe tbody tr th:only-of-type {\n",
       "        vertical-align: middle;\n",
       "    }\n",
       "\n",
       "    .dataframe tbody tr th {\n",
       "        vertical-align: top;\n",
       "    }\n",
       "\n",
       "    .dataframe thead th {\n",
       "        text-align: right;\n",
       "    }\n",
       "</style>\n",
       "<table border=\"1\" class=\"dataframe\">\n",
       "  <thead>\n",
       "    <tr style=\"text-align: right;\">\n",
       "      <th></th>\n",
       "      <th>Close/Last</th>\n",
       "      <th>Volume</th>\n",
       "      <th>Open</th>\n",
       "      <th>High</th>\n",
       "      <th>Low</th>\n",
       "    </tr>\n",
       "    <tr>\n",
       "      <th>Date</th>\n",
       "      <th></th>\n",
       "      <th></th>\n",
       "      <th></th>\n",
       "      <th></th>\n",
       "      <th></th>\n",
       "    </tr>\n",
       "  </thead>\n",
       "  <tbody>\n",
       "    <tr>\n",
       "      <th>2011-06-10</th>\n",
       "      <td>11.64</td>\n",
       "      <td>433801306</td>\n",
       "      <td>11.81</td>\n",
       "      <td>11.85</td>\n",
       "      <td>11.63</td>\n",
       "    </tr>\n",
       "    <tr>\n",
       "      <th>2011-06-13</th>\n",
       "      <td>11.66</td>\n",
       "      <td>329376468</td>\n",
       "      <td>11.69</td>\n",
       "      <td>11.73</td>\n",
       "      <td>11.61</td>\n",
       "    </tr>\n",
       "    <tr>\n",
       "      <th>2011-06-14</th>\n",
       "      <td>11.87</td>\n",
       "      <td>333995906</td>\n",
       "      <td>11.79</td>\n",
       "      <td>11.90</td>\n",
       "      <td>11.76</td>\n",
       "    </tr>\n",
       "    <tr>\n",
       "      <th>2011-06-15</th>\n",
       "      <td>11.67</td>\n",
       "      <td>395841722</td>\n",
       "      <td>11.78</td>\n",
       "      <td>11.80</td>\n",
       "      <td>11.60</td>\n",
       "    </tr>\n",
       "    <tr>\n",
       "      <th>2011-06-16</th>\n",
       "      <td>11.61</td>\n",
       "      <td>507299317</td>\n",
       "      <td>11.68</td>\n",
       "      <td>11.74</td>\n",
       "      <td>11.37</td>\n",
       "    </tr>\n",
       "  </tbody>\n",
       "</table>\n",
       "</div>"
      ],
      "text/plain": [
       "            Close/Last     Volume   Open   High    Low\n",
       "Date                                                  \n",
       "2011-06-10       11.64  433801306  11.81  11.85  11.63\n",
       "2011-06-13       11.66  329376468  11.69  11.73  11.61\n",
       "2011-06-14       11.87  333995906  11.79  11.90  11.76\n",
       "2011-06-15       11.67  395841722  11.78  11.80  11.60\n",
       "2011-06-16       11.61  507299317  11.68  11.74  11.37"
      ]
     },
     "execution_count": 8,
     "metadata": {},
     "output_type": "execute_result"
    }
   ],
   "source": [
    "historical_data.set_index(\"Date\", inplace = True)\n",
    "historical_data.head()"
   ]
  },
  {
   "cell_type": "code",
   "execution_count": 9,
   "metadata": {},
   "outputs": [
    {
     "data": {
      "text/plain": [
       "(2516, 5)"
      ]
     },
     "execution_count": 9,
     "metadata": {},
     "output_type": "execute_result"
    }
   ],
   "source": [
    "# Get the number of rows and columns in the data set\n",
    "historical_data.shape"
   ]
  },
  {
   "cell_type": "code",
   "execution_count": 10,
   "metadata": {},
   "outputs": [
    {
     "data": {
      "image/png": "[encoded data removed]",
      "text/plain": [
       "<Figure size 1152x648 with 1 Axes>"
      ]
     },
     "metadata": {},
     "output_type": "display_data"
    }
   ],
   "source": [
    "# Visualizing the closing price history\n",
    "plt.figure(figsize=(16,9))\n",
    "plt.title('Close Price History', fontsize = 20)\n",
    "plt.plot(historical_data['Close/Last'])\n",
    "plt.xlabel('Date', fontsize = 16, color = 'g')\n",
    "plt.ylabel('Close Price USD ($)', fontsize = 16, color = 'g')\n",
    "plt.xticks(fontsize = 12)\n",
    "plt.yticks(fontsize = 12)\n",
    "plt.show()"
   ]
  },
  {
   "cell_type": "code",
   "execution_count": 11,
   "metadata": {},
   "outputs": [],
   "source": [
    "# Create a new dataframe with only the 'Close' column\n",
    "data = historical_data.filter(['Close/Last'])"
   ]
  },
  {
   "cell_type": "code",
   "execution_count": 12,
   "metadata": {},
   "outputs": [],
   "source": [
    "# Convert the dataframe to a numpy array\n",
    "dataset = data.values"
   ]
  },
  {
   "cell_type": "code",
   "execution_count": 13,
   "metadata": {},
   "outputs": [
    {
     "data": {
      "text/plain": [
       "2013"
      ]
     },
     "execution_count": 13,
     "metadata": {},
     "output_type": "execute_result"
    }
   ],
   "source": [
    "# Get the number of rows to train the model on\n",
    "training_data_len = math.ceil( len(dataset)*.8)\n",
    "training_data_len"
   ]
  },
  {
   "cell_type": "code",
   "execution_count": 14,
   "metadata": {},
   "outputs": [
    {
     "data": {
      "text/plain": [
       "array([[0.00288097],\n",
       "       [0.0030326 ],\n",
       "       [0.00462472],\n",
       "       ...,\n",
       "       [0.86914329],\n",
       "       [0.87551175],\n",
       "       [0.87846854]])"
      ]
     },
     "execution_count": 14,
     "metadata": {},
     "output_type": "execute_result"
    }
   ],
   "source": [
    "# Scaling the data\n",
    "scaler = MinMaxScaler(feature_range=(0,1))\n",
    "scaled_data = scaler.fit_transform(dataset)\n",
    "scaled_data"
   ]
  },
  {
   "cell_type": "code",
   "execution_count": 15,
   "metadata": {},
   "outputs": [
    {
     "name": "stdout",
     "output_type": "stream",
     "text": [
      "[array([0.00288097, 0.0030326 , 0.00462472, 0.00310842, 0.00265353,\n",
      "       0.00136467, 0.        , 0.00272934, 0.00197119, 0.00432146,\n",
      "       0.0030326 , 0.0045489 , 0.00538287, 0.00507961, 0.0055345 ,\n",
      "       0.0075815 , 0.00924943, 0.00985595, 0.01137225, 0.01205459])]\n",
      "[0.010462471569370746]\n",
      "\n"
     ]
    }
   ],
   "source": [
    "# Create the training data set\n",
    "train_data = scaled_data[0:training_data_len , :]\n",
    "\n",
    "# Split the data into x_train and y_train data sets\n",
    "x_train = []\n",
    "y_train = []\n",
    "past_days = 20\n",
    "for i in range(past_days, len(train_data)):\n",
    "    x_train.append(train_data[i-past_days:i, 0])\n",
    "    y_train.append(train_data[i, 0])\n",
    "    if i<= past_days:\n",
    "        print(x_train)\n",
    "        print(y_train)\n",
    "        print()"
   ]
  },
  {
   "cell_type": "code",
   "execution_count": 16,
   "metadata": {},
   "outputs": [],
   "source": [
    "# Convert the x_train and y_train to numpy arrays\n",
    "x_train, y_train = np.array(x_train), np.array(y_train)"
   ]
  },
  {
   "cell_type": "code",
   "execution_count": 17,
   "metadata": {},
   "outputs": [
    {
     "data": {
      "text/plain": [
       "(1993, 20, 1)"
      ]
     },
     "execution_count": 17,
     "metadata": {},
     "output_type": "execute_result"
    }
   ],
   "source": [
    "# Reshape the data\n",
    "x_train = np.reshape(x_train, (x_train.shape[0], x_train.shape[1], 1))\n",
    "x_train.shape"
   ]
  },
  {
   "cell_type": "code",
   "execution_count": 18,
   "metadata": {},
   "outputs": [],
   "source": [
    "# Build the LSTM model\n",
    "model = Sequential()\n",
    "model.add(LSTM(50, return_sequences=True, input_shape= (x_train.shape[1], 1)))\n",
    "model.add(LSTM(50, return_sequences= False))\n",
    "model.add(Dense(25))\n",
    "model.add(Dense(1))"
   ]
  },
  {
   "cell_type": "code",
   "execution_count": 19,
   "metadata": {},
   "outputs": [],
   "source": [
    "# Compile the model\n",
    "model.compile(optimizer='adam', loss='mean_squared_error')"
   ]
  },
  {
   "cell_type": "code",
   "execution_count": 20,
   "metadata": {},
   "outputs": [
    {
     "name": "stdout",
     "output_type": "stream",
     "text": [
      "Epoch 1/100\n",
      "125/125 [==============================] - 40s 25ms/step - loss: 0.0030 0s - loss: 0.003\n",
      "Epoch 2/100\n",
      "125/125 [==============================] - 3s 26ms/step - loss: 7.6342e-05\n",
      "Epoch 3/100\n",
      "125/125 [==============================] - 3s 25ms/step - loss: 7.6366e-05\n",
      "Epoch 4/100\n",
      "125/125 [==============================] - 3s 27ms/step - loss: 7.4070e-05\n",
      "Epoch 5/100\n",
      "125/125 [==============================] - 4s 31ms/step - loss: 6.5518e-05\n",
      "Epoch 6/100\n",
      "125/125 [==============================] - 3s 27ms/step - loss: 5.6732e-05\n",
      "Epoch 7/100\n",
      "125/125 [==============================] - 3s 25ms/step - loss: 5.0815e-05\n",
      "Epoch 8/100\n",
      "125/125 [==============================] - 3s 25ms/step - loss: 5.5652e-05\n",
      "Epoch 9/100\n",
      "125/125 [==============================] - 3s 26ms/step - loss: 8.1769e-05\n",
      "Epoch 10/100\n",
      "125/125 [==============================] - 3s 25ms/step - loss: 4.5739e-05\n",
      "Epoch 11/100\n",
      "125/125 [==============================] - 3s 25ms/step - loss: 4.6434e-05: 0s\n",
      "Epoch 12/100\n",
      "125/125 [==============================] - 3s 26ms/step - loss: 6.5831e-05\n",
      "Epoch 13/100\n",
      "125/125 [==============================] - 4s 29ms/step - loss: 4.4836e-05: 1s\n",
      "Epoch 14/100\n",
      "125/125 [==============================] - 4s 28ms/step - loss: 4.3123e-05\n",
      "Epoch 15/100\n",
      "125/125 [==============================] - 4s 32ms/step - loss: 3.5763e-05\n",
      "Epoch 16/100\n",
      "125/125 [==============================] - ETA: 0s - loss: 3.3896e-0 - 4s 28ms/step - loss: 3.3912e-05\n",
      "Epoch 17/100\n",
      "125/125 [==============================] - 4s 32ms/step - loss: 3.8022e-05: 0s - loss: \n",
      "Epoch 18/100\n",
      "125/125 [==============================] - 3s 26ms/step - loss: 4.0636e-05\n",
      "Epoch 19/100\n",
      "125/125 [==============================] - 3s 26ms/step - loss: 3.8788e-05\n",
      "Epoch 20/100\n",
      "125/125 [==============================] - 4s 28ms/step - loss: 3.7847e-05\n",
      "Epoch 21/100\n",
      "125/125 [==============================] - 3s 24ms/step - loss: 3.3052e-05\n",
      "Epoch 22/100\n",
      "125/125 [==============================] - 3s 25ms/step - loss: 3.1738e-05\n",
      "Epoch 23/100\n",
      "125/125 [==============================] - 3s 24ms/step - loss: 4.3864e-05\n",
      "Epoch 24/100\n",
      "125/125 [==============================] - 3s 24ms/step - loss: 4.0010e-05\n",
      "Epoch 25/100\n",
      "125/125 [==============================] - 3s 24ms/step - loss: 2.6054e-05\n",
      "Epoch 26/100\n",
      "125/125 [==============================] - 3s 24ms/step - loss: 2.6941e-05\n",
      "Epoch 27/100\n",
      "125/125 [==============================] - 3s 25ms/step - loss: 3.1593e-05\n",
      "Epoch 28/100\n",
      "125/125 [==============================] - 3s 24ms/step - loss: 3.5938e-05\n",
      "Epoch 29/100\n",
      "125/125 [==============================] - 3s 24ms/step - loss: 2.6040e-05\n",
      "Epoch 30/100\n",
      "125/125 [==============================] - 3s 25ms/step - loss: 3.1982e-05\n",
      "Epoch 31/100\n",
      "125/125 [==============================] - 3s 25ms/step - loss: 2.5323e-05\n",
      "Epoch 32/100\n",
      "125/125 [==============================] - 3s 26ms/step - loss: 2.4332e-05\n",
      "Epoch 33/100\n",
      "125/125 [==============================] - 3s 26ms/step - loss: 2.4917e-05\n",
      "Epoch 34/100\n",
      "125/125 [==============================] - 3s 24ms/step - loss: 2.0727e-05\n",
      "Epoch 35/100\n",
      "125/125 [==============================] - 3s 24ms/step - loss: 2.7656e-05\n",
      "Epoch 36/100\n",
      "125/125 [==============================] - 3s 25ms/step - loss: 2.1219e-05\n",
      "Epoch 37/100\n",
      "125/125 [==============================] - 3s 25ms/step - loss: 2.2977e-05\n",
      "Epoch 38/100\n",
      "125/125 [==============================] - 3s 26ms/step - loss: 2.4173e-05\n",
      "Epoch 39/100\n",
      "125/125 [==============================] - 4s 31ms/step - loss: 2.2344e-05\n",
      "Epoch 40/100\n",
      "125/125 [==============================] - 4s 28ms/step - loss: 2.3294e-05\n",
      "Epoch 41/100\n",
      "125/125 [==============================] - 4s 29ms/step - loss: 2.1307e-05\n",
      "Epoch 42/100\n",
      "125/125 [==============================] - 3s 27ms/step - loss: 2.8553e-05\n",
      "Epoch 43/100\n",
      "125/125 [==============================] - 3s 25ms/step - loss: 1.9878e-05: 1s - loss: 2.25\n",
      "Epoch 44/100\n",
      "125/125 [==============================] - 3s 26ms/step - loss: 1.8906e-05\n",
      "Epoch 45/100\n",
      "125/125 [==============================] - 3s 25ms/step - loss: 1.9301e-05\n",
      "Epoch 46/100\n",
      "125/125 [==============================] - 3s 26ms/step - loss: 1.9439e-05\n",
      "Epoch 47/100\n",
      "125/125 [==============================] - 3s 27ms/step - loss: 1.9874e-05\n",
      "Epoch 48/100\n",
      "125/125 [==============================] - 3s 26ms/step - loss: 2.3326e-05\n",
      "Epoch 49/100\n",
      "125/125 [==============================] - 3s 24ms/step - loss: 2.1301e-05\n",
      "Epoch 50/100\n",
      "125/125 [==============================] - 3s 27ms/step - loss: 2.0633e-05\n",
      "Epoch 51/100\n",
      "125/125 [==============================] - 3s 25ms/step - loss: 2.1274e-05\n",
      "Epoch 52/100\n",
      "125/125 [==============================] - 3s 25ms/step - loss: 2.5659e-05\n",
      "Epoch 53/100\n",
      "125/125 [==============================] - 3s 27ms/step - loss: 2.1553e-05\n",
      "Epoch 54/100\n",
      "125/125 [==============================] - 3s 27ms/step - loss: 1.9028e-05\n",
      "Epoch 55/100\n",
      "125/125 [==============================] - 3s 25ms/step - loss: 2.5889e-05\n",
      "Epoch 56/100\n",
      "125/125 [==============================] - 3s 27ms/step - loss: 1.9047e-05\n",
      "Epoch 57/100\n",
      "125/125 [==============================] - 3s 28ms/step - loss: 1.6096e-05\n",
      "Epoch 58/100\n",
      "125/125 [==============================] - 4s 28ms/step - loss: 1.8188e-05\n",
      "Epoch 59/100\n",
      "125/125 [==============================] - 3s 27ms/step - loss: 2.5850e-05\n",
      "Epoch 60/100\n",
      "125/125 [==============================] - 3s 26ms/step - loss: 1.6134e-05\n",
      "Epoch 61/100\n",
      "125/125 [==============================] - 3s 26ms/step - loss: 1.8405e-05\n",
      "Epoch 62/100\n",
      "125/125 [==============================] - 3s 26ms/step - loss: 1.8717e-05\n",
      "Epoch 63/100\n",
      "125/125 [==============================] - 3s 25ms/step - loss: 1.8643e-05\n",
      "Epoch 64/100\n",
      "125/125 [==============================] - 3s 25ms/step - loss: 1.7609e-05\n",
      "Epoch 65/100\n",
      "125/125 [==============================] - 3s 26ms/step - loss: 1.6583e-05\n",
      "Epoch 66/100\n",
      "125/125 [==============================] - 3s 26ms/step - loss: 2.3710e-05\n",
      "Epoch 67/100\n",
      "125/125 [==============================] - 3s 27ms/step - loss: 2.2903e-05\n",
      "Epoch 68/100\n",
      "125/125 [==============================] - 3s 24ms/step - loss: 2.1472e-05\n",
      "Epoch 69/100\n",
      "125/125 [==============================] - 3s 25ms/step - loss: 1.7499e-05\n",
      "Epoch 70/100\n",
      "125/125 [==============================] - 3s 24ms/step - loss: 2.0790e-05\n",
      "Epoch 71/100\n",
      "125/125 [==============================] - 3s 24ms/step - loss: 1.8902e-05\n",
      "Epoch 72/100\n",
      "125/125 [==============================] - 3s 24ms/step - loss: 1.9153e-05\n",
      "Epoch 73/100\n",
      "125/125 [==============================] - 3s 26ms/step - loss: 1.7679e-05\n",
      "Epoch 74/100\n",
      "125/125 [==============================] - 3s 26ms/step - loss: 1.9297e-05\n",
      "Epoch 75/100\n",
      "125/125 [==============================] - 3s 25ms/step - loss: 2.3132e-05\n",
      "Epoch 76/100\n",
      "125/125 [==============================] - 3s 26ms/step - loss: 2.0406e-05\n",
      "Epoch 77/100\n",
      "125/125 [==============================] - 3s 26ms/step - loss: 1.5705e-05: 0s - loss: 1.\n",
      "Epoch 78/100\n",
      "125/125 [==============================] - 3s 24ms/step - loss: 1.6485e-05\n",
      "Epoch 79/100\n",
      "125/125 [==============================] - 3s 25ms/step - loss: 1.6487e-05\n",
      "Epoch 80/100\n",
      "125/125 [==============================] - 3s 25ms/step - loss: 1.7129e-05\n",
      "Epoch 81/100\n",
      "125/125 [==============================] - 3s 26ms/step - loss: 2.0689e-05\n",
      "Epoch 82/100\n",
      "125/125 [==============================] - 3s 25ms/step - loss: 2.0750e-05: 0s - loss: \n",
      "Epoch 83/100\n",
      "125/125 [==============================] - 4s 30ms/step - loss: 2.0769e-05\n",
      "Epoch 84/100\n",
      "125/125 [==============================] - 3s 24ms/step - loss: 2.1600e-05: 0s - loss: 2.14\n",
      "Epoch 85/100\n",
      "125/125 [==============================] - 3s 25ms/step - loss: 2.0331e-05\n",
      "Epoch 86/100\n",
      "125/125 [==============================] - 4s 29ms/step - loss: 1.8725e-05\n",
      "Epoch 87/100\n",
      "125/125 [==============================] - 4s 31ms/step - loss: 1.6764e-05\n",
      "Epoch 88/100\n",
      "125/125 [==============================] - 3s 22ms/step - loss: 2.0129e-05\n",
      "Epoch 89/100\n",
      "125/125 [==============================] - 2s 19ms/step - loss: 2.0337e-05\n",
      "Epoch 90/100\n",
      "125/125 [==============================] - 2s 17ms/step - loss: 1.9170e-05: 0s - los\n",
      "Epoch 91/100\n",
      "125/125 [==============================] - 2s 18ms/step - loss: 2.0556e-05\n",
      "Epoch 92/100\n"
     ]
    },
    {
     "name": "stdout",
     "output_type": "stream",
     "text": [
      "125/125 [==============================] - 2s 16ms/step - loss: 1.6194e-05\n",
      "Epoch 93/100\n",
      "125/125 [==============================] - 2s 16ms/step - loss: 1.9139e-05\n",
      "Epoch 94/100\n",
      "125/125 [==============================] - 2s 16ms/step - loss: 1.7973e-05\n",
      "Epoch 95/100\n",
      "125/125 [==============================] - 2s 16ms/step - loss: 2.4241e-05: 0s - loss: 2.482\n",
      "Epoch 96/100\n",
      "125/125 [==============================] - 2s 16ms/step - loss: 1.8704e-05\n",
      "Epoch 97/100\n",
      "125/125 [==============================] - 2s 16ms/step - loss: 1.6614e-05\n",
      "Epoch 98/100\n",
      "125/125 [==============================] - 2s 16ms/step - loss: 1.8866e-05\n",
      "Epoch 99/100\n",
      "125/125 [==============================] - 2s 16ms/step - loss: 2.3899e-05\n",
      "Epoch 100/100\n",
      "125/125 [==============================] - 2s 16ms/step - loss: 2.2889e-05\n"
     ]
    },
    {
     "data": {
      "text/plain": [
       "<keras.callbacks.History at 0x20899311b08>"
      ]
     },
     "execution_count": 20,
     "metadata": {},
     "output_type": "execute_result"
    }
   ],
   "source": [
    "# Train the model\n",
    "model.fit(x_train, y_train, batch_size = 16, epochs = 100, verbose=1)"
   ]
  },
  {
   "cell_type": "code",
   "execution_count": 21,
   "metadata": {},
   "outputs": [],
   "source": [
    "# Create the testing data set\n",
    "test_data = scaled_data[training_data_len - past_days: , :]\n",
    "\n",
    "# Create the data sets x_test and y_test\n",
    "x_test = []\n",
    "y_test = dataset[training_data_len:, :]\n",
    "for i in range(past_days, len(test_data)):\n",
    "    x_test.append(test_data[i-past_days:i, 0])"
   ]
  },
  {
   "cell_type": "code",
   "execution_count": 22,
   "metadata": {},
   "outputs": [],
   "source": [
    "# Convert the data to a numpy array\n",
    "x_test = np.array(x_test)"
   ]
  },
  {
   "cell_type": "code",
   "execution_count": 23,
   "metadata": {},
   "outputs": [],
   "source": [
    "# Reshape the data\n",
    "x_test = np.reshape(x_test, (x_test. shape[0], x_test. shape[1], 1))"
   ]
  },
  {
   "cell_type": "code",
   "execution_count": 24,
   "metadata": {},
   "outputs": [],
   "source": [
    "# Get the models predicted price values\n",
    "predictions = model.predict(x_test)\n",
    "predictions = scaler.inverse_transform(predictions)"
   ]
  },
  {
   "cell_type": "code",
   "execution_count": 25,
   "metadata": {},
   "outputs": [
    {
     "data": {
      "text/plain": [
       "1.1251192248365274"
      ]
     },
     "execution_count": 25,
     "metadata": {},
     "output_type": "execute_result"
    }
   ],
   "source": [
    "# Get the root mean squared error (RMSE)\n",
    "rmse = np.sqrt(np.mean(predictions - y_test)**2)\n",
    "rmse"
   ]
  },
  {
   "cell_type": "code",
   "execution_count": 26,
   "metadata": {},
   "outputs": [
    {
     "name": "stderr",
     "output_type": "stream",
     "text": [
      "C:\\Users\\Abhi\\anaconda3\\lib\\site-packages\\ipykernel_launcher.py:4: SettingWithCopyWarning: \n",
      "A value is trying to be set on a copy of a slice from a DataFrame.\n",
      "Try using .loc[row_indexer,col_indexer] = value instead\n",
      "\n",
      "See the caveats in the documentation: https://pandas.pydata.org/pandas-docs/stable/user_guide/indexing.html#returning-a-view-versus-a-copy\n",
      "  after removing the cwd from sys.path.\n"
     ]
    },
    {
     "data": {
      "image/png": "[encoded data removed]",
      "text/plain": [
       "<Figure size 1152x648 with 1 Axes>"
      ]
     },
     "metadata": {},
     "output_type": "display_data"
    }
   ],
   "source": [
    "# Plot the data\n",
    "train = data[:training_data_len]\n",
    "valid = data[training_data_len:]\n",
    "valid['Predictions'] = predictions\n",
    "\n",
    "# Visualize the data\n",
    "plt.figure(figsize=(16,9))\n",
    "plt.title('Model')\n",
    "plt.xlabel('Date', fontsize= 15, color = 'g')\n",
    "plt.ylabel( 'Close Price USD ($)', fontsize = 15, color = 'g')\n",
    "plt.plot(valid['Close/Last'], color = 'blue', label = 'Actual Close Price')\n",
    "plt.plot(valid['Predictions'],  color = 'red', label = 'Predicted Close Price')\n",
    "plt.legend (loc = 'lower right', fontsize = 12)\n",
    "plt.xticks(fontsize = 12)\n",
    "plt.yticks(fontsize = 12)\n",
    "plt.show()"
   ]
  },
  {
   "cell_type": "code",
   "execution_count": 27,
   "metadata": {},
   "outputs": [
    {
     "data": {
      "text/html": [
       "<div>\n",
       "<style scoped>\n",
       "    .dataframe tbody tr th:only-of-type {\n",
       "        vertical-align: middle;\n",
       "    }\n",
       "\n",
       "    .dataframe tbody tr th {\n",
       "        vertical-align: top;\n",
       "    }\n",
       "\n",
       "    .dataframe thead th {\n",
       "        text-align: right;\n",
       "    }\n",
       "</style>\n",
       "<table border=\"1\" class=\"dataframe\">\n",
       "  <thead>\n",
       "    <tr style=\"text-align: right;\">\n",
       "      <th></th>\n",
       "      <th>Close/Last</th>\n",
       "      <th>Predictions</th>\n",
       "    </tr>\n",
       "    <tr>\n",
       "      <th>Date</th>\n",
       "      <th></th>\n",
       "      <th></th>\n",
       "    </tr>\n",
       "  </thead>\n",
       "  <tbody>\n",
       "    <tr>\n",
       "      <th>2019-06-12</th>\n",
       "      <td>48.55</td>\n",
       "      <td>49.140961</td>\n",
       "    </tr>\n",
       "    <tr>\n",
       "      <th>2019-06-13</th>\n",
       "      <td>48.54</td>\n",
       "      <td>48.972805</td>\n",
       "    </tr>\n",
       "    <tr>\n",
       "      <th>2019-06-14</th>\n",
       "      <td>48.19</td>\n",
       "      <td>49.004883</td>\n",
       "    </tr>\n",
       "    <tr>\n",
       "      <th>2019-06-17</th>\n",
       "      <td>48.47</td>\n",
       "      <td>48.634304</td>\n",
       "    </tr>\n",
       "    <tr>\n",
       "      <th>2019-06-18</th>\n",
       "      <td>49.61</td>\n",
       "      <td>48.946842</td>\n",
       "    </tr>\n",
       "    <tr>\n",
       "      <th>...</th>\n",
       "      <td>...</td>\n",
       "      <td>...</td>\n",
       "    </tr>\n",
       "    <tr>\n",
       "      <th>2021-06-03</th>\n",
       "      <td>123.54</td>\n",
       "      <td>122.584282</td>\n",
       "    </tr>\n",
       "    <tr>\n",
       "      <th>2021-06-04</th>\n",
       "      <td>125.89</td>\n",
       "      <td>120.601143</td>\n",
       "    </tr>\n",
       "    <tr>\n",
       "      <th>2021-06-07</th>\n",
       "      <td>125.90</td>\n",
       "      <td>123.768745</td>\n",
       "    </tr>\n",
       "    <tr>\n",
       "      <th>2021-06-08</th>\n",
       "      <td>126.74</td>\n",
       "      <td>122.999908</td>\n",
       "    </tr>\n",
       "    <tr>\n",
       "      <th>2021-06-09</th>\n",
       "      <td>127.13</td>\n",
       "      <td>124.181549</td>\n",
       "    </tr>\n",
       "  </tbody>\n",
       "</table>\n",
       "<p>503 rows × 2 columns</p>\n",
       "</div>"
      ],
      "text/plain": [
       "            Close/Last  Predictions\n",
       "Date                               \n",
       "2019-06-12       48.55    49.140961\n",
       "2019-06-13       48.54    48.972805\n",
       "2019-06-14       48.19    49.004883\n",
       "2019-06-17       48.47    48.634304\n",
       "2019-06-18       49.61    48.946842\n",
       "...                ...          ...\n",
       "2021-06-03      123.54   122.584282\n",
       "2021-06-04      125.89   120.601143\n",
       "2021-06-07      125.90   123.768745\n",
       "2021-06-08      126.74   122.999908\n",
       "2021-06-09      127.13   124.181549\n",
       "\n",
       "[503 rows x 2 columns]"
      ]
     },
     "execution_count": 27,
     "metadata": {},
     "output_type": "execute_result"
    }
   ],
   "source": [
    "# Show the valid and Predicted Prices\n",
    "valid"
   ]
  },
  {
   "cell_type": "markdown",
   "metadata": {},
   "source": [
    "### Predicting Close price for next day after the Historical data ends"
   ]
  },
  {
   "cell_type": "code",
   "execution_count": 28,
   "metadata": {},
   "outputs": [
    {
     "name": "stdout",
     "output_type": "stream",
     "text": [
      "2021-06-10 00:00:00\n"
     ]
    }
   ],
   "source": [
    "# Getting next day from where the Historical Dataset ends\n",
    "import datetime\n",
    "\n",
    "last_day = historical_data.index[-1]\n",
    "next_day = last_day + datetime.timedelta(days = 1)\n",
    "print(next_day)"
   ]
  },
  {
   "cell_type": "code",
   "execution_count": 29,
   "metadata": {},
   "outputs": [
    {
     "name": "stdout",
     "output_type": "stream",
     "text": [
      "Predicted Close Price for 2021-06-10 00:00:00  =  [[124.377304]]\n"
     ]
    }
   ],
   "source": [
    "# Create a new dataframe\n",
    "new_df = historical_data.filter(['Close/Last'])\n",
    "# Get the last 20 day closing price values and convert the dataframe to an array\n",
    "last_20_days = new_df[-20: ].values\n",
    "# Scale the data to be values between 0 and 1\n",
    "last_20_days_scaled = scaler.transform(last_20_days)\n",
    "# Create an empty list\n",
    "X_test = []\n",
    "# Append the past 20 days\n",
    "X_test.append(last_20_days_scaled)\n",
    "# Convert the X_test data set to a numpy array\n",
    "X_test = np.array(X_test)\n",
    "# Reshape the data\n",
    "X_test = np.reshape(X_test, (X_test.shape[0], X_test.shape[1], 1))\n",
    "# Get the predicted scaled price\n",
    "pred_price = model.predict(X_test)\n",
    "# undo the scaling\n",
    "pred_price = scaler.inverse_transform(pred_price)\n",
    "print('Predicted Close Price for {} '.format(next_day) + ' = ', pred_price)"
   ]
  }
 ],
 "metadata": {
  "kernelspec": {
   "display_name": "Python 3",
   "language": "python",
   "name": "python3"
  },
  "language_info": {
   "codemirror_mode": {
    "name": "ipython",
    "version": 3
   },
   "file_extension": ".py",
   "mimetype": "text/x-python",
   "name": "python",
   "nbconvert_exporter": "python",
   "pygments_lexer": "ipython3",
   "version": "3.7.6"
  }
 },
 "nbformat": 4,
 "nbformat_minor": 4
}
